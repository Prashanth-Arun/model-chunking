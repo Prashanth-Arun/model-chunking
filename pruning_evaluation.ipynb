{
 "cells": [
  {
   "cell_type": "code",
   "execution_count": 1,
   "metadata": {},
   "outputs": [
    {
     "name": "stderr",
     "output_type": "stream",
     "text": [
      "/fs01/home/prash/miniforge3/envs/model-chunking/lib/python3.10/site-packages/tqdm/auto.py:21: TqdmWarning: IProgress not found. Please update jupyter and ipywidgets. See https://ipywidgets.readthedocs.io/en/stable/user_install.html\n",
      "  from .autonotebook import tqdm as notebook_tqdm\n"
     ]
    }
   ],
   "source": [
    "from evaluation.slurm import run_slurm\n",
    "from evaluation.unit import QwenWritableConfig, DatasetID\n",
    "from model_chunking import Qwen2ChunkingConfig"
   ]
  },
  {
   "cell_type": "code",
   "execution_count": 2,
   "metadata": {},
   "outputs": [
    {
     "name": "stderr",
     "output_type": "stream",
     "text": [
      "You are using a model of type qwen2 to instantiate a model of type qwen2_chunking. This is not supported for all configurations of models and can yield errors.\n",
      "You are using a model of type qwen2 to instantiate a model of type qwen2_chunking. This is not supported for all configurations of models and can yield errors.\n",
      "You are using a model of type qwen2 to instantiate a model of type qwen2_chunking. This is not supported for all configurations of models and can yield errors.\n",
      "You are using a model of type qwen2 to instantiate a model of type qwen2_chunking. This is not supported for all configurations of models and can yield errors.\n",
      "You are using a model of type qwen2 to instantiate a model of type qwen2_chunking. This is not supported for all configurations of models and can yield errors.\n",
      "You are using a model of type qwen2 to instantiate a model of type qwen2_chunking. This is not supported for all configurations of models and can yield errors.\n",
      "You are using a model of type qwen2 to instantiate a model of type qwen2_chunking. This is not supported for all configurations of models and can yield errors.\n",
      "You are using a model of type qwen2 to instantiate a model of type qwen2_chunking. This is not supported for all configurations of models and can yield errors.\n"
     ]
    }
   ],
   "source": [
    "model = \"Qwen/Qwen2.5-0.5B-Instruct\"\n",
    "experiment_names = [\n",
    "    \"prune_1_top\", \"prune_3_top\",\n",
    "    \"prune_1_bottom\", \"prune_3_bottom\",\n",
    "    \"prune_1_middle\", \"prune_3_middle\",\n",
    "    \"prune_3_across\", \"prune_baseline\"\n",
    "]\n",
    "\n",
    "prune_layers = [\n",
    "    [24], [19, 21, 23],\n",
    "    [3], [1, 3, 5],\n",
    "    [14], [10, 12, 14],\n",
    "    [7, 15, 23], []\n",
    "]\n",
    "\n",
    "configs : list[QwenWritableConfig] = []\n",
    "for exp, layers in zip(experiment_names, prune_layers):\n",
    "    config = QwenWritableConfig(\n",
    "        experiment_name=exp,\n",
    "        chunking_config=Qwen2ChunkingConfig.from_pretrained(\n",
    "            model,\n",
    "            chunking_mode=\"prune\",\n",
    "            layers_to_prune=layers,\n",
    "            use_adapters=False,\n",
    "            aggregation_method=\"mean\"\n",
    "        ),\n",
    "        dataset=DatasetID.WIKITEXT\n",
    "    )\n",
    "    configs.append(config)"
   ]
  },
  {
   "cell_type": "code",
   "execution_count": 3,
   "metadata": {},
   "outputs": [
    {
     "name": "stdout",
     "output_type": "stream",
     "text": [
      "Submitted batch job 14024136\n",
      " for experiment prune_1_top\n",
      "Submitted batch job 14024137\n",
      " for experiment prune_3_top\n",
      "Submitted batch job 14024138\n",
      " for experiment prune_1_bottom\n",
      "Submitted batch job 14024139\n",
      " for experiment prune_3_bottom\n",
      "Submitted batch job 14024140\n",
      " for experiment prune_1_middle\n",
      "Submitted batch job 14024141\n",
      " for experiment prune_3_middle\n",
      "Submitted batch job 14024142\n",
      " for experiment prune_3_across\n",
      "Submitted batch job 14024143\n",
      " for experiment prune_baseline\n"
     ]
    }
   ],
   "source": [
    "for config in configs:\n",
    "    run_slurm(config=config)"
   ]
  },
  {
   "cell_type": "code",
   "execution_count": null,
   "metadata": {},
   "outputs": [],
   "source": []
  }
 ],
 "metadata": {
  "kernelspec": {
   "display_name": "Python 3",
   "language": "python",
   "name": "python3"
  },
  "language_info": {
   "codemirror_mode": {
    "name": "ipython",
    "version": 3
   },
   "file_extension": ".py",
   "mimetype": "text/x-python",
   "name": "python",
   "nbconvert_exporter": "python",
   "pygments_lexer": "ipython3",
   "version": "3.10.15"
  }
 },
 "nbformat": 4,
 "nbformat_minor": 2
}
