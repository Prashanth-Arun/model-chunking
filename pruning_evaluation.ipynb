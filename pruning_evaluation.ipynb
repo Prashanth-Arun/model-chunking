{
 "cells": [
  {
   "cell_type": "code",
   "execution_count": 1,
   "metadata": {},
   "outputs": [
    {
     "name": "stderr",
     "output_type": "stream",
     "text": [
      "/fs01/home/prash/miniforge3/envs/model-chunking/lib/python3.10/site-packages/tqdm/auto.py:21: TqdmWarning: IProgress not found. Please update jupyter and ipywidgets. See https://ipywidgets.readthedocs.io/en/stable/user_install.html\n",
      "  from .autonotebook import tqdm as notebook_tqdm\n"
     ]
    }
   ],
   "source": [
    "from evaluation.results import load_results\n",
    "from evaluation.slurm import run_slurm\n",
    "from evaluation.unit import QwenWritableConfig, DatasetID, ExperimentResult\n",
    "from model_chunking import Qwen2ChunkingConfig\n",
    "from matplotlib import pyplot as plt"
   ]
  },
  {
   "cell_type": "code",
   "execution_count": 2,
   "metadata": {},
   "outputs": [
    {
     "name": "stderr",
     "output_type": "stream",
     "text": [
      "You are using a model of type qwen2 to instantiate a model of type qwen2_chunking. This is not supported for all configurations of models and can yield errors.\n",
      "You are using a model of type qwen2 to instantiate a model of type qwen2_chunking. This is not supported for all configurations of models and can yield errors.\n"
     ]
    },
    {
     "name": "stderr",
     "output_type": "stream",
     "text": [
      "You are using a model of type qwen2 to instantiate a model of type qwen2_chunking. This is not supported for all configurations of models and can yield errors.\n",
      "You are using a model of type qwen2 to instantiate a model of type qwen2_chunking. This is not supported for all configurations of models and can yield errors.\n",
      "You are using a model of type qwen2 to instantiate a model of type qwen2_chunking. This is not supported for all configurations of models and can yield errors.\n",
      "You are using a model of type qwen2 to instantiate a model of type qwen2_chunking. This is not supported for all configurations of models and can yield errors.\n",
      "You are using a model of type qwen2 to instantiate a model of type qwen2_chunking. This is not supported for all configurations of models and can yield errors.\n",
      "You are using a model of type qwen2 to instantiate a model of type qwen2_chunking. This is not supported for all configurations of models and can yield errors.\n"
     ]
    }
   ],
   "source": [
    "model = \"Qwen/Qwen2.5-0.5B-Instruct\"\n",
    "experiment_names = [\n",
    "    \"prune_1_top\", \"prune_3_top\",\n",
    "    \"prune_1_bottom\", \"prune_3_bottom\",\n",
    "    \"prune_1_middle\", \"prune_3_middle\",\n",
    "    \"prune_3_across\", \"prune_baseline\"\n",
    "]\n",
    "\n",
    "prune_layers = [\n",
    "    [24], [19, 21, 23],\n",
    "    [3], [1, 3, 5],\n",
    "    [14], [10, 12, 14],\n",
    "    [7, 15, 23], []\n",
    "]\n",
    "\n",
    "configs : list[QwenWritableConfig] = []\n",
    "for exp, layers in zip(experiment_names, prune_layers):\n",
    "    if exp != \"prune_baseline\":\n",
    "        config = QwenWritableConfig(\n",
    "            experiment_name=exp,\n",
    "            chunking_config=Qwen2ChunkingConfig.from_pretrained(\n",
    "                model,\n",
    "                chunking_mode=\"prune\",\n",
    "                layers_to_prune=layers,\n",
    "                use_adapters=False,\n",
    "                aggregation_method=\"mean\"\n",
    "            ),\n",
    "            dataset=DatasetID.WIKITEXT\n",
    "        )\n",
    "    else:\n",
    "        config = QwenWritableConfig(\n",
    "            experiment_name=exp,\n",
    "            chunking_config=Qwen2ChunkingConfig.from_pretrained(\n",
    "                model,\n",
    "                chunking_mode=\"uniform\",\n",
    "                num_layers_per_chunk=24,\n",
    "                use_adapters=False,\n",
    "                aggregation_method=\"mean\"\n",
    "            ),\n",
    "            dataset=DatasetID.WIKITEXT\n",
    "        )\n",
    "    configs.append(config)"
   ]
  },
  {
   "cell_type": "code",
   "execution_count": 3,
   "metadata": {},
   "outputs": [
    {
     "name": "stdout",
     "output_type": "stream",
     "text": [
      "Warning: an experiment at /fs01/home/prash/Projects/model-chunking/.experiments/prune_1_top already exists. Please delete it manually before re-running.\n",
      "Warning: an experiment at /fs01/home/prash/Projects/model-chunking/.experiments/prune_3_top already exists. Please delete it manually before re-running.\n",
      "Warning: an experiment at /fs01/home/prash/Projects/model-chunking/.experiments/prune_1_bottom already exists. Please delete it manually before re-running.\n",
      "Warning: an experiment at /fs01/home/prash/Projects/model-chunking/.experiments/prune_3_bottom already exists. Please delete it manually before re-running.\n",
      "Warning: an experiment at /fs01/home/prash/Projects/model-chunking/.experiments/prune_1_middle already exists. Please delete it manually before re-running.\n",
      "Warning: an experiment at /fs01/home/prash/Projects/model-chunking/.experiments/prune_3_middle already exists. Please delete it manually before re-running.\n",
      "Warning: an experiment at /fs01/home/prash/Projects/model-chunking/.experiments/prune_3_across already exists. Please delete it manually before re-running.\n",
      "Submitted batch job 14024427\n",
      " for experiment prune_baseline\n"
     ]
    }
   ],
   "source": [
    "for config in configs:\n",
    "    run_slurm(config=config)"
   ]
  },
  {
   "cell_type": "code",
   "execution_count": 3,
   "metadata": {},
   "outputs": [
    {
     "name": "stdout",
     "output_type": "stream",
     "text": [
      "Experiment: prune_1_top\n",
      "\tLatency: 0.7136273459632798s ; Perplexity: 16787908.0\n",
      "Experiment: prune_3_top\n",
      "\tLatency: 0.507603637770851s ; Perplexity: 57672484.0\n",
      "Experiment: prune_1_bottom\n",
      "\tLatency: 0.6979654104402749s ; Perplexity: 17136792.0\n",
      "Experiment: prune_3_bottom\n",
      "\tLatency: 0.49479617435153167s ; Perplexity: 33731492.0\n",
      "Experiment: prune_1_middle\n",
      "\tLatency: 0.7575914094943811s ; Perplexity: 15033722.0\n",
      "Experiment: prune_3_middle\n",
      "\tLatency: 0.48526094337501147s ; Perplexity: 5943206.0\n",
      "Experiment: prune_3_across\n",
      "\tLatency: 0.5011673726657829s ; Perplexity: 94478424.0\n",
      "Experiment: prune_baseline\n",
      "\tLatency: 0.8250966449775318s ; Perplexity: 58335508.0\n"
     ]
    }
   ],
   "source": [
    "results : list[ExperimentResult] = []\n",
    "for config in configs:\n",
    "    result = load_results(config=config)\n",
    "    results.append(result)\n",
    "    print(f\"Experiment: {config.experiment_name}\")\n",
    "    print(f\"\\tLatency: {result.latency}s ; Perplexity: {result.perplexity}\")"
   ]
  }
 ],
 "metadata": {
  "kernelspec": {
   "display_name": "Python 3",
   "language": "python",
   "name": "python3"
  },
  "language_info": {
   "codemirror_mode": {
    "name": "ipython",
    "version": 3
   },
   "file_extension": ".py",
   "mimetype": "text/x-python",
   "name": "python",
   "nbconvert_exporter": "python",
   "pygments_lexer": "ipython3",
   "version": "3.10.15"
  }
 },
 "nbformat": 4,
 "nbformat_minor": 2
}
